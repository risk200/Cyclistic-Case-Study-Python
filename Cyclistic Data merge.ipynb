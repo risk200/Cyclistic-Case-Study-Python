{
 "cells": [
  {
   "cell_type": "markdown",
   "id": "c1264518",
   "metadata": {},
   "source": [
    "In this notebook the monthly data will be merged into one file and then exported into a single file to have the analysis done."
   ]
  },
  {
   "cell_type": "code",
   "execution_count": 4,
   "id": "cf7bcaa3",
   "metadata": {},
   "outputs": [],
   "source": [
    "import pandas as pd"
   ]
  },
  {
   "cell_type": "markdown",
   "id": "b9a45fe6",
   "metadata": {},
   "source": [
    "Importing the first month of data"
   ]
  },
  {
   "cell_type": "code",
   "execution_count": 6,
   "id": "d850f4f9",
   "metadata": {},
   "outputs": [],
   "source": [
    "df = pd.read_csv(r'G:\\Pictures\\Misc\\Data Analytics\\Course 8 Capstone\\Case 1\\Raw\\202301-divvy-tripdata.csv')"
   ]
  },
  {
   "cell_type": "markdown",
   "id": "73a75b35",
   "metadata": {},
   "source": [
    "using a loop to import the rest of the data month by month and then mergeing it into the the data frame made above"
   ]
  },
  {
   "cell_type": "code",
   "execution_count": 20,
   "id": "13dfa7a0",
   "metadata": {},
   "outputs": [],
   "source": [
    "\n",
    "for x in range(2,10):\n",
    "    file = r'G:\\Pictures\\Misc\\Data Analytics\\Course 8 Capstone\\Case 1\\Raw\\20230'+str(x)+'-divvy-tripdata.csv'\n",
    "    df2 = pd.read_csv(file)\n",
    "    df = pd.concat([df,df2])"
   ]
  },
  {
   "cell_type": "markdown",
   "id": "4d386b9c",
   "metadata": {},
   "source": [
    "checking to see if data made it in"
   ]
  },
  {
   "cell_type": "code",
   "execution_count": 21,
   "id": "15b60738",
   "metadata": {},
   "outputs": [
    {
     "name": "stdout",
     "output_type": "stream",
     "text": [
      "<class 'pandas.core.frame.DataFrame'>\n",
      "Int64Index: 4596173 entries, 0 to 666370\n",
      "Data columns (total 13 columns):\n",
      " #   Column              Dtype  \n",
      "---  ------              -----  \n",
      " 0   ride_id             object \n",
      " 1   rideable_type       object \n",
      " 2   started_at          object \n",
      " 3   ended_at            object \n",
      " 4   start_station_name  object \n",
      " 5   start_station_id    object \n",
      " 6   end_station_name    object \n",
      " 7   end_station_id      object \n",
      " 8   start_lat           float64\n",
      " 9   start_lng           float64\n",
      " 10  end_lat             float64\n",
      " 11  end_lng             float64\n",
      " 12  member_casual       object \n",
      "dtypes: float64(4), object(9)\n",
      "memory usage: 490.9+ MB\n"
     ]
    }
   ],
   "source": [
    "df.info()"
   ]
  },
  {
   "cell_type": "code",
   "execution_count": 22,
   "id": "3fdd48f3",
   "metadata": {},
   "outputs": [
    {
     "data": {
      "text/plain": [
       "(4596173, 13)"
      ]
     },
     "execution_count": 22,
     "metadata": {},
     "output_type": "execute_result"
    }
   ],
   "source": [
    "df.shape"
   ]
  },
  {
   "cell_type": "markdown",
   "id": "73505075",
   "metadata": {},
   "source": [
    "Exporting the data"
   ]
  },
  {
   "cell_type": "code",
   "execution_count": 24,
   "id": "e709a3d5",
   "metadata": {},
   "outputs": [],
   "source": [
    "df.to_csv(r'G:\\Pictures\\Misc\\Data Analytics\\Course 8 Capstone\\Case 1\\Python Stuff\\Cyclistic Data.csv',index = False)"
   ]
  }
 ],
 "metadata": {
  "kernelspec": {
   "display_name": "Python 3 (ipykernel)",
   "language": "python",
   "name": "python3"
  },
  "language_info": {
   "codemirror_mode": {
    "name": "ipython",
    "version": 3
   },
   "file_extension": ".py",
   "mimetype": "text/x-python",
   "name": "python",
   "nbconvert_exporter": "python",
   "pygments_lexer": "ipython3",
   "version": "3.11.4"
  }
 },
 "nbformat": 4,
 "nbformat_minor": 5
}
